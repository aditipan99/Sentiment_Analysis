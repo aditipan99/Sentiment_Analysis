{
  "nbformat": 4,
  "nbformat_minor": 0,
  "metadata": {
    "colab": {
      "name": "Movie_Review_Sentiment_Analysis.ipynb",
      "provenance": []
    },
    "kernelspec": {
      "name": "python3",
      "display_name": "Python 3"
    },
    "language_info": {
      "name": "python"
    }
  },
  "cells": [
    {
      "cell_type": "markdown",
      "metadata": {
        "id": "LuByofE0CxYY"
      },
      "source": [
        "Himanshu Mahajan\n",
        "\n",
        "Thapar Institute of Engineering and Technology, Patiala\n",
        "\n",
        "The problem in sentiment analysis is classifying the polarity of a given text at the document,\n",
        "sentence, or feature/aspect level. Whether the expressed opinion in a document, a sentence or an\n",
        "entity feature/aspect is positive or negative.\n",
        "Here, Movie Review Sentiment Analysis using the IMDB dataset is done."
      ]
    },
    {
      "cell_type": "markdown",
      "metadata": {
        "id": "iO7t9j-oIQh5"
      },
      "source": [
        "Importing Libraries"
      ]
    },
    {
      "cell_type": "code",
      "metadata": {
        "id": "XJN36dNKk1Iv"
      },
      "source": [
        "import numpy as np\n",
        "import pandas as pd\n",
        "import matplotlib.pyplot as plt\n",
        "%matplotlib inline\n",
        "from sklearn.model_selection import train_test_split\n",
        "import re\n",
        "from copy import deepcopy as d\n",
        "from nltk.stem import WordNetLemmatizer\n",
        "from nltk.corpus import stopwords\n",
        "import nltk\n",
        "from sklearn.feature_extraction.text import CountVectorizer\n",
        "from sklearn.feature_extraction.text import TfidfVectorizer\n",
        "from sklearn.linear_model import LogisticRegression\n",
        "from bs4 import BeautifulSoup\n",
        "from sklearn.metrics import classification_report, confusion_matrix, accuracy_score\n",
        "from sklearn.svm import LinearSVC"
      ],
      "execution_count": null,
      "outputs": []
    },
    {
      "cell_type": "code",
      "metadata": {
        "colab": {
          "base_uri": "https://localhost:8080/"
        },
        "id": "WZHDH4OIU-gO",
        "outputId": "4766de23-4b36-464d-849a-489c74183da5"
      },
      "source": [
        "nltk.download('stopwords')"
      ],
      "execution_count": null,
      "outputs": [
        {
          "output_type": "stream",
          "text": [
            "[nltk_data] Downloading package stopwords to /root/nltk_data...\n",
            "[nltk_data]   Package stopwords is already up-to-date!\n"
          ],
          "name": "stdout"
        },
        {
          "output_type": "execute_result",
          "data": {
            "text/plain": [
              "True"
            ]
          },
          "metadata": {
            "tags": []
          },
          "execution_count": 3
        }
      ]
    },
    {
      "cell_type": "code",
      "metadata": {
        "colab": {
          "base_uri": "https://localhost:8080/"
        },
        "id": "vmdyPoycVNTa",
        "outputId": "89a391e9-15ea-421a-f29e-4f8bbffb11d0"
      },
      "source": [
        "nltk.download('wordnet')"
      ],
      "execution_count": null,
      "outputs": [
        {
          "output_type": "stream",
          "text": [
            "[nltk_data] Downloading package wordnet to /root/nltk_data...\n",
            "[nltk_data]   Package wordnet is already up-to-date!\n"
          ],
          "name": "stdout"
        },
        {
          "output_type": "execute_result",
          "data": {
            "text/plain": [
              "True"
            ]
          },
          "metadata": {
            "tags": []
          },
          "execution_count": 4
        }
      ]
    },
    {
      "cell_type": "markdown",
      "metadata": {
        "id": "pn_Cv0Q3JJ6a"
      },
      "source": [
        "Loading Dataset"
      ]
    },
    {
      "cell_type": "code",
      "metadata": {
        "colab": {
          "base_uri": "https://localhost:8080/",
          "height": 212
        },
        "id": "8pw4PHmBJJiZ",
        "outputId": "39e5fdd3-587c-4f37-8bd6-ace7bd0b1c7a"
      },
      "source": [
        "dataset = pd.read_csv('IMDB Dataset.csv')\n",
        "\n",
        "print(dataset.shape)\n",
        "dataset.head()"
      ],
      "execution_count": null,
      "outputs": [
        {
          "output_type": "stream",
          "text": [
            "(50000, 2)\n"
          ],
          "name": "stdout"
        },
        {
          "output_type": "execute_result",
          "data": {
            "text/html": [
              "<div>\n",
              "<style scoped>\n",
              "    .dataframe tbody tr th:only-of-type {\n",
              "        vertical-align: middle;\n",
              "    }\n",
              "\n",
              "    .dataframe tbody tr th {\n",
              "        vertical-align: top;\n",
              "    }\n",
              "\n",
              "    .dataframe thead th {\n",
              "        text-align: right;\n",
              "    }\n",
              "</style>\n",
              "<table border=\"1\" class=\"dataframe\">\n",
              "  <thead>\n",
              "    <tr style=\"text-align: right;\">\n",
              "      <th></th>\n",
              "      <th>review</th>\n",
              "      <th>sentiment</th>\n",
              "    </tr>\n",
              "  </thead>\n",
              "  <tbody>\n",
              "    <tr>\n",
              "      <th>0</th>\n",
              "      <td>One of the other reviewers has mentioned that ...</td>\n",
              "      <td>positive</td>\n",
              "    </tr>\n",
              "    <tr>\n",
              "      <th>1</th>\n",
              "      <td>A wonderful little production. &lt;br /&gt;&lt;br /&gt;The...</td>\n",
              "      <td>positive</td>\n",
              "    </tr>\n",
              "    <tr>\n",
              "      <th>2</th>\n",
              "      <td>I thought this was a wonderful way to spend ti...</td>\n",
              "      <td>positive</td>\n",
              "    </tr>\n",
              "    <tr>\n",
              "      <th>3</th>\n",
              "      <td>Basically there's a family where a little boy ...</td>\n",
              "      <td>negative</td>\n",
              "    </tr>\n",
              "    <tr>\n",
              "      <th>4</th>\n",
              "      <td>Petter Mattei's \"Love in the Time of Money\" is...</td>\n",
              "      <td>positive</td>\n",
              "    </tr>\n",
              "  </tbody>\n",
              "</table>\n",
              "</div>"
            ],
            "text/plain": [
              "                                              review sentiment\n",
              "0  One of the other reviewers has mentioned that ...  positive\n",
              "1  A wonderful little production. <br /><br />The...  positive\n",
              "2  I thought this was a wonderful way to spend ti...  positive\n",
              "3  Basically there's a family where a little boy ...  negative\n",
              "4  Petter Mattei's \"Love in the Time of Money\" is...  positive"
            ]
          },
          "metadata": {
            "tags": []
          },
          "execution_count": 5
        }
      ]
    },
    {
      "cell_type": "code",
      "metadata": {
        "colab": {
          "base_uri": "https://localhost:8080/"
        },
        "id": "wiM--NnYL9Br",
        "outputId": "5afef165-3a49-4bf4-f638-b958a203ca82"
      },
      "source": [
        "dataset.info()"
      ],
      "execution_count": null,
      "outputs": [
        {
          "output_type": "stream",
          "text": [
            "<class 'pandas.core.frame.DataFrame'>\n",
            "RangeIndex: 50000 entries, 0 to 49999\n",
            "Data columns (total 2 columns):\n",
            " #   Column     Non-Null Count  Dtype \n",
            "---  ------     --------------  ----- \n",
            " 0   review     50000 non-null  object\n",
            " 1   sentiment  50000 non-null  object\n",
            "dtypes: object(2)\n",
            "memory usage: 781.4+ KB\n"
          ],
          "name": "stdout"
        }
      ]
    },
    {
      "cell_type": "code",
      "metadata": {
        "colab": {
          "base_uri": "https://localhost:8080/",
          "height": 166
        },
        "id": "Eo_Wj-XLMCPr",
        "outputId": "55be5ace-9021-4e92-ad5c-f970f11d3b56"
      },
      "source": [
        "dataset.describe()"
      ],
      "execution_count": null,
      "outputs": [
        {
          "output_type": "execute_result",
          "data": {
            "text/html": [
              "<div>\n",
              "<style scoped>\n",
              "    .dataframe tbody tr th:only-of-type {\n",
              "        vertical-align: middle;\n",
              "    }\n",
              "\n",
              "    .dataframe tbody tr th {\n",
              "        vertical-align: top;\n",
              "    }\n",
              "\n",
              "    .dataframe thead th {\n",
              "        text-align: right;\n",
              "    }\n",
              "</style>\n",
              "<table border=\"1\" class=\"dataframe\">\n",
              "  <thead>\n",
              "    <tr style=\"text-align: right;\">\n",
              "      <th></th>\n",
              "      <th>review</th>\n",
              "      <th>sentiment</th>\n",
              "    </tr>\n",
              "  </thead>\n",
              "  <tbody>\n",
              "    <tr>\n",
              "      <th>count</th>\n",
              "      <td>50000</td>\n",
              "      <td>50000</td>\n",
              "    </tr>\n",
              "    <tr>\n",
              "      <th>unique</th>\n",
              "      <td>49582</td>\n",
              "      <td>2</td>\n",
              "    </tr>\n",
              "    <tr>\n",
              "      <th>top</th>\n",
              "      <td>Loved today's show!!! It was a variety and not...</td>\n",
              "      <td>negative</td>\n",
              "    </tr>\n",
              "    <tr>\n",
              "      <th>freq</th>\n",
              "      <td>5</td>\n",
              "      <td>25000</td>\n",
              "    </tr>\n",
              "  </tbody>\n",
              "</table>\n",
              "</div>"
            ],
            "text/plain": [
              "                                                   review sentiment\n",
              "count                                               50000     50000\n",
              "unique                                              49582         2\n",
              "top     Loved today's show!!! It was a variety and not...  negative\n",
              "freq                                                    5     25000"
            ]
          },
          "metadata": {
            "tags": []
          },
          "execution_count": 7
        }
      ]
    },
    {
      "cell_type": "code",
      "metadata": {
        "colab": {
          "base_uri": "https://localhost:8080/"
        },
        "id": "4iq3mEUgMHDd",
        "outputId": "7eb53ff6-bf04-4641-ff9f-23cd5f8f7e93"
      },
      "source": [
        "dataset['sentiment'].value_counts()"
      ],
      "execution_count": null,
      "outputs": [
        {
          "output_type": "execute_result",
          "data": {
            "text/plain": [
              "negative    25000\n",
              "positive    25000\n",
              "Name: sentiment, dtype: int64"
            ]
          },
          "metadata": {
            "tags": []
          },
          "execution_count": 8
        }
      ]
    },
    {
      "cell_type": "markdown",
      "metadata": {
        "id": "u7VUI7nHNBuI"
      },
      "source": [
        "Converting sentiments into numerical form"
      ]
    },
    {
      "cell_type": "code",
      "metadata": {
        "colab": {
          "base_uri": "https://localhost:8080/",
          "height": 195
        },
        "id": "QngXBqESMtwD",
        "outputId": "8645672b-4ba3-448c-ea3e-ae5012c0ec3d"
      },
      "source": [
        "dataset['sentiment']=dataset['sentiment'].replace({'positive':1, 'negative':0})\n",
        "dataset.head()"
      ],
      "execution_count": null,
      "outputs": [
        {
          "output_type": "execute_result",
          "data": {
            "text/html": [
              "<div>\n",
              "<style scoped>\n",
              "    .dataframe tbody tr th:only-of-type {\n",
              "        vertical-align: middle;\n",
              "    }\n",
              "\n",
              "    .dataframe tbody tr th {\n",
              "        vertical-align: top;\n",
              "    }\n",
              "\n",
              "    .dataframe thead th {\n",
              "        text-align: right;\n",
              "    }\n",
              "</style>\n",
              "<table border=\"1\" class=\"dataframe\">\n",
              "  <thead>\n",
              "    <tr style=\"text-align: right;\">\n",
              "      <th></th>\n",
              "      <th>review</th>\n",
              "      <th>sentiment</th>\n",
              "    </tr>\n",
              "  </thead>\n",
              "  <tbody>\n",
              "    <tr>\n",
              "      <th>0</th>\n",
              "      <td>One of the other reviewers has mentioned that ...</td>\n",
              "      <td>1</td>\n",
              "    </tr>\n",
              "    <tr>\n",
              "      <th>1</th>\n",
              "      <td>A wonderful little production. &lt;br /&gt;&lt;br /&gt;The...</td>\n",
              "      <td>1</td>\n",
              "    </tr>\n",
              "    <tr>\n",
              "      <th>2</th>\n",
              "      <td>I thought this was a wonderful way to spend ti...</td>\n",
              "      <td>1</td>\n",
              "    </tr>\n",
              "    <tr>\n",
              "      <th>3</th>\n",
              "      <td>Basically there's a family where a little boy ...</td>\n",
              "      <td>0</td>\n",
              "    </tr>\n",
              "    <tr>\n",
              "      <th>4</th>\n",
              "      <td>Petter Mattei's \"Love in the Time of Money\" is...</td>\n",
              "      <td>1</td>\n",
              "    </tr>\n",
              "  </tbody>\n",
              "</table>\n",
              "</div>"
            ],
            "text/plain": [
              "                                              review  sentiment\n",
              "0  One of the other reviewers has mentioned that ...          1\n",
              "1  A wonderful little production. <br /><br />The...          1\n",
              "2  I thought this was a wonderful way to spend ti...          1\n",
              "3  Basically there's a family where a little boy ...          0\n",
              "4  Petter Mattei's \"Love in the Time of Money\" is...          1"
            ]
          },
          "metadata": {
            "tags": []
          },
          "execution_count": 9
        }
      ]
    },
    {
      "cell_type": "markdown",
      "metadata": {
        "id": "1QrSi3DJN1oL"
      },
      "source": [
        "Removal of HTML contents"
      ]
    },
    {
      "cell_type": "code",
      "metadata": {
        "colab": {
          "base_uri": "https://localhost:8080/",
          "height": 203
        },
        "id": "dTNTZrbaOWlM",
        "outputId": "b1c9fc52-c78c-4a9c-d24e-a1c95c5c1330"
      },
      "source": [
        "dataset_noHTML=d(dataset)\n",
        "for i in range(dataset_noHTML['review'].shape[0]):\n",
        "    soup = BeautifulSoup(dataset_noHTML['review'].iloc[i],'html.parser')\n",
        "    dataset_noHTML['review'].iloc[i] = soup.get_text()\n",
        "    \n",
        "dataset_noHTML['review'].iloc[1]"
      ],
      "execution_count": null,
      "outputs": [
        {
          "output_type": "stream",
          "text": [
            "/usr/local/lib/python3.7/dist-packages/pandas/core/indexing.py:670: SettingWithCopyWarning: \n",
            "A value is trying to be set on a copy of a slice from a DataFrame\n",
            "\n",
            "See the caveats in the documentation: https://pandas.pydata.org/pandas-docs/stable/user_guide/indexing.html#returning-a-view-versus-a-copy\n",
            "  iloc._setitem_with_indexer(indexer, value)\n"
          ],
          "name": "stderr"
        },
        {
          "output_type": "execute_result",
          "data": {
            "application/vnd.google.colaboratory.intrinsic+json": {
              "type": "string"
            },
            "text/plain": [
              "'A wonderful little production. The filming technique is very unassuming- very old-time-BBC fashion and gives a comforting, and sometimes discomforting, sense of realism to the entire piece. The actors are extremely well chosen- Michael Sheen not only \"has got all the polari\" but he has all the voices down pat too! You can truly see the seamless editing guided by the references to Williams\\' diary entries, not only is it well worth the watching but it is a terrificly written and performed piece. A masterful production about one of the great master\\'s of comedy and his life. The realism really comes home with the little things: the fantasy of the guard which, rather than use the traditional \\'dream\\' techniques remains solid then disappears. It plays on our knowledge and our senses, particularly with the scenes concerning Orton and Halliwell and the sets (particularly of their flat with Halliwell\\'s murals decorating every surface) are terribly well done.'"
            ]
          },
          "metadata": {
            "tags": []
          },
          "execution_count": 12
        }
      ]
    },
    {
      "cell_type": "markdown",
      "metadata": {
        "id": "AVxW56eqQNR_"
      },
      "source": [
        "Removing special characters, digits, etc. except alphabet."
      ]
    },
    {
      "cell_type": "code",
      "metadata": {
        "colab": {
          "base_uri": "https://localhost:8080/",
          "height": 237
        },
        "id": "cFIX7KEBQMkm",
        "outputId": "06a98871-2bd1-4633-92fd-389a78d8de5c"
      },
      "source": [
        "dataset_onlyAlphabet=d(dataset_noHTML)\n",
        "for i in range(dataset_onlyAlphabet['review'].shape[0]):\n",
        "    dataset_onlyAlphabet['review'].iloc[i] = re.sub('/[[^]]*/]',' ',dataset_onlyAlphabet['review'].iloc[i])\n",
        "    dataset_onlyAlphabet['review'].iloc[i] = re.sub('[^a-zA-Z]',' ',dataset_onlyAlphabet['review'].iloc[i])\n",
        "    \n",
        "dataset_onlyAlphabet['review'].iloc[1]"
      ],
      "execution_count": null,
      "outputs": [
        {
          "output_type": "stream",
          "text": [
            "/usr/local/lib/python3.7/dist-packages/ipykernel_launcher.py:3: FutureWarning: Possible nested set at position 2\n",
            "  This is separate from the ipykernel package so we can avoid doing imports until\n",
            "/usr/local/lib/python3.7/dist-packages/pandas/core/indexing.py:670: SettingWithCopyWarning: \n",
            "A value is trying to be set on a copy of a slice from a DataFrame\n",
            "\n",
            "See the caveats in the documentation: https://pandas.pydata.org/pandas-docs/stable/user_guide/indexing.html#returning-a-view-versus-a-copy\n",
            "  iloc._setitem_with_indexer(indexer, value)\n"
          ],
          "name": "stderr"
        },
        {
          "output_type": "execute_result",
          "data": {
            "application/vnd.google.colaboratory.intrinsic+json": {
              "type": "string"
            },
            "text/plain": [
              "'A wonderful little production  The filming technique is very unassuming  very old time BBC fashion and gives a comforting  and sometimes discomforting  sense of realism to the entire piece  The actors are extremely well chosen  Michael Sheen not only  has got all the polari  but he has all the voices down pat too  You can truly see the seamless editing guided by the references to Williams  diary entries  not only is it well worth the watching but it is a terrificly written and performed piece  A masterful production about one of the great master s of comedy and his life  The realism really comes home with the little things  the fantasy of the guard which  rather than use the traditional  dream  techniques remains solid then disappears  It plays on our knowledge and our senses  particularly with the scenes concerning Orton and Halliwell and the sets  particularly of their flat with Halliwell s murals decorating every surface  are terribly well done '"
            ]
          },
          "metadata": {
            "tags": []
          },
          "execution_count": 13
        }
      ]
    },
    {
      "cell_type": "markdown",
      "metadata": {
        "id": "Njte0fBKRnuz"
      },
      "source": [
        "Converting everthing into lowercase"
      ]
    },
    {
      "cell_type": "code",
      "metadata": {
        "colab": {
          "base_uri": "https://localhost:8080/",
          "height": 203
        },
        "id": "F5kSyK8ARwyx",
        "outputId": "9a56c129-1d02-4ff4-9a3f-f27e5ffeb639"
      },
      "source": [
        "dataset_lowercase=d(dataset_onlyAlphabet)\n",
        "for i in range(dataset_lowercase['review'].shape[0]):\n",
        "  dataset_lowercase['review'].iloc[i] = dataset_lowercase['review'].iloc[i] .lower()\n",
        "  \n",
        "dataset_lowercase['review'].iloc[1] "
      ],
      "execution_count": null,
      "outputs": [
        {
          "output_type": "stream",
          "text": [
            "/usr/local/lib/python3.7/dist-packages/pandas/core/indexing.py:670: SettingWithCopyWarning: \n",
            "A value is trying to be set on a copy of a slice from a DataFrame\n",
            "\n",
            "See the caveats in the documentation: https://pandas.pydata.org/pandas-docs/stable/user_guide/indexing.html#returning-a-view-versus-a-copy\n",
            "  iloc._setitem_with_indexer(indexer, value)\n"
          ],
          "name": "stderr"
        },
        {
          "output_type": "execute_result",
          "data": {
            "application/vnd.google.colaboratory.intrinsic+json": {
              "type": "string"
            },
            "text/plain": [
              "'a wonderful little production  the filming technique is very unassuming  very old time bbc fashion and gives a comforting  and sometimes discomforting  sense of realism to the entire piece  the actors are extremely well chosen  michael sheen not only  has got all the polari  but he has all the voices down pat too  you can truly see the seamless editing guided by the references to williams  diary entries  not only is it well worth the watching but it is a terrificly written and performed piece  a masterful production about one of the great master s of comedy and his life  the realism really comes home with the little things  the fantasy of the guard which  rather than use the traditional  dream  techniques remains solid then disappears  it plays on our knowledge and our senses  particularly with the scenes concerning orton and halliwell and the sets  particularly of their flat with halliwell s murals decorating every surface  are terribly well done '"
            ]
          },
          "metadata": {
            "tags": []
          },
          "execution_count": 14
        }
      ]
    },
    {
      "cell_type": "markdown",
      "metadata": {
        "id": "ZiKzqZCvSVtu"
      },
      "source": [
        "Split sentences, removal of Stopwords and Lemmatization"
      ]
    },
    {
      "cell_type": "code",
      "metadata": {
        "colab": {
          "base_uri": "https://localhost:8080/",
          "height": 170
        },
        "id": "zAlASVh8TtDy",
        "outputId": "9996854e-53a9-43bb-c6a5-335b4e46c1d5"
      },
      "source": [
        "dataset_final=d(dataset_lowercase)\n",
        "for i in range(dataset_final['review'].shape[0]):\n",
        "  dataset_final['review'].iloc[i] = dataset_final['review'].iloc[i].split()\n",
        "  lm  = WordNetLemmatizer()\n",
        "  dataset_final['review'].iloc[i]  = [lm.lemmatize(word) for word in dataset_final['review'].iloc[i] if not word in set(stopwords.words('english'))]\n",
        "  dataset_final['review'].iloc[i] = ' '.join(dataset_final['review'].iloc[i])\n",
        "\n",
        "dataset_final['review'].iloc[1] "
      ],
      "execution_count": null,
      "outputs": [
        {
          "output_type": "stream",
          "text": [
            "/usr/local/lib/python3.7/dist-packages/pandas/core/indexing.py:670: SettingWithCopyWarning: \n",
            "A value is trying to be set on a copy of a slice from a DataFrame\n",
            "\n",
            "See the caveats in the documentation: https://pandas.pydata.org/pandas-docs/stable/user_guide/indexing.html#returning-a-view-versus-a-copy\n",
            "  iloc._setitem_with_indexer(indexer, value)\n"
          ],
          "name": "stderr"
        },
        {
          "output_type": "execute_result",
          "data": {
            "application/vnd.google.colaboratory.intrinsic+json": {
              "type": "string"
            },
            "text/plain": [
              "'wonderful little production filming technique unassuming old time bbc fashion give comforting sometimes discomforting sense realism entire piece actor extremely well chosen michael sheen got polari voice pat truly see seamless editing guided reference williams diary entry well worth watching terrificly written performed piece masterful production one great master comedy life realism really come home little thing fantasy guard rather use traditional dream technique remains solid disappears play knowledge sens particularly scene concerning orton halliwell set particularly flat halliwell mural decorating every surface terribly well done'"
            ]
          },
          "metadata": {
            "tags": []
          },
          "execution_count": 16
        }
      ]
    },
    {
      "cell_type": "markdown",
      "metadata": {
        "id": "xsKNiFV3MOvl"
      },
      "source": [
        "Data Splitting"
      ]
    },
    {
      "cell_type": "code",
      "metadata": {
        "id": "nNIiSh2KKdR6"
      },
      "source": [
        "x_train, x_test, y_train, y_test = train_test_split(dataset_final['review'], dataset_final['sentiment'], test_size=0.25, random_state=42)"
      ],
      "execution_count": null,
      "outputs": []
    },
    {
      "cell_type": "markdown",
      "metadata": {
        "id": "iSFNB5b4XnjV"
      },
      "source": [
        "To vectorize we will apply - 1. Bag of Words model ( CountVectorizer)"
      ]
    },
    {
      "cell_type": "code",
      "metadata": {
        "id": "zSGRZMJ_Xtqr"
      },
      "source": [
        "#Count vectorizer for bag of words\n",
        "cv=CountVectorizer(min_df=0,max_df=1,binary=False,ngram_range=(1,3))\n",
        "#transformed train reviews\n",
        "cv_train=cv.fit_transform(x_train)\n",
        "#transformed test reviews\n",
        "cv_test=cv.transform(x_test)"
      ],
      "execution_count": null,
      "outputs": []
    },
    {
      "cell_type": "markdown",
      "metadata": {
        "id": "XdP1bN_FZAz5"
      },
      "source": [
        "To vectorize we will apply - 2. TF - IDF model (TfidfVectorizer)"
      ]
    },
    {
      "cell_type": "code",
      "metadata": {
        "id": "0fmP6iZHZK6_"
      },
      "source": [
        "tfidf = TfidfVectorizer(ngram_range = (1, 3))\n",
        "\n",
        "tfidf_train = tfidf.fit_transform(x_train)\n",
        "tfidf_test = tfidf.transform(x_test)"
      ],
      "execution_count": null,
      "outputs": []
    },
    {
      "cell_type": "markdown",
      "metadata": {
        "id": "-8630C_xamys"
      },
      "source": [
        "Using Logistic Regression as the first model"
      ]
    },
    {
      "cell_type": "code",
      "metadata": {
        "colab": {
          "base_uri": "https://localhost:8080/"
        },
        "id": "S2bYXoRAawjn",
        "outputId": "7d156dca-0274-4835-e890-7fd68e5f360b"
      },
      "source": [
        "#training the model\n",
        "lr1=LogisticRegression(penalty='l2',max_iter=500,C=1,random_state=42)\n",
        "lr2=LogisticRegression(penalty='l2',max_iter=500,C=1,random_state=42)\n",
        "\n",
        "#Fitting the model for Bag of words\n",
        "lr_cv=lr1.fit(cv_train ,y_train)\n",
        "print(lr_cv)\n",
        "\n",
        "#Fitting the model for tfidf features\n",
        "lr_tfidf=lr2.fit(tfidf_train,y_train)\n",
        "print(lr_tfidf)\n"
      ],
      "execution_count": null,
      "outputs": [
        {
          "output_type": "stream",
          "text": [
            "LogisticRegression(C=1, class_weight=None, dual=False, fit_intercept=True,\n",
            "                   intercept_scaling=1, l1_ratio=None, max_iter=500,\n",
            "                   multi_class='auto', n_jobs=None, penalty='l2',\n",
            "                   random_state=42, solver='lbfgs', tol=0.0001, verbose=0,\n",
            "                   warm_start=False)\n",
            "LogisticRegression(C=1, class_weight=None, dual=False, fit_intercept=True,\n",
            "                   intercept_scaling=1, l1_ratio=None, max_iter=500,\n",
            "                   multi_class='auto', n_jobs=None, penalty='l2',\n",
            "                   random_state=42, solver='lbfgs', tol=0.0001, verbose=0,\n",
            "                   warm_start=False)\n"
          ],
          "name": "stdout"
        }
      ]
    },
    {
      "cell_type": "markdown",
      "metadata": {
        "id": "zOyGpaKNbnxy"
      },
      "source": [
        "Logistic Regression model prediction on test dataset"
      ]
    },
    {
      "cell_type": "code",
      "metadata": {
        "colab": {
          "base_uri": "https://localhost:8080/"
        },
        "id": "RKmg-R3Gbpgr",
        "outputId": "98f76c28-33d5-4766-9aff-f70553c9fd19"
      },
      "source": [
        "#Predicting the model for bag of words\n",
        "lr_cv_predict=lr1.predict(cv_test)\n",
        "print(lr_cv_predict)\n",
        "\n",
        "##Predicting the model for tfidf features\n",
        "lr_tfidf_predict=lr2.predict(tfidf_test)\n",
        "print(lr_tfidf_predict)"
      ],
      "execution_count": null,
      "outputs": [
        {
          "output_type": "stream",
          "text": [
            "[0 1 0 ... 0 1 0]\n",
            "[0 1 0 ... 0 1 1]\n"
          ],
          "name": "stdout"
        }
      ]
    },
    {
      "cell_type": "markdown",
      "metadata": {
        "id": "AnnBGPYKg29u"
      },
      "source": [
        "Accuracy of Logistic Regresstion Model"
      ]
    },
    {
      "cell_type": "code",
      "metadata": {
        "colab": {
          "base_uri": "https://localhost:8080/"
        },
        "id": "do9ZxLtcg7aE",
        "outputId": "6c841139-c04a-4590-eb7c-be81f2b96aae"
      },
      "source": [
        "#Accuracy score for bag of words\n",
        "lr_cv_score=accuracy_score(y_test,lr_cv_predict)\n",
        "print(\"lr_cv_score :\",lr_cv_score)\n",
        "\n",
        "#Accuracy score for tfidf features\n",
        "lr_tfidf_score=accuracy_score(y_test,lr_tfidf_predict)\n",
        "print(\"lr_tfidf_score :\",lr_tfidf_score)"
      ],
      "execution_count": null,
      "outputs": [
        {
          "output_type": "stream",
          "text": [
            "lr_cv_score : 0.59384\n",
            "lr_tfidf_score : 0.88528\n"
          ],
          "name": "stdout"
        }
      ]
    },
    {
      "cell_type": "markdown",
      "metadata": {
        "id": "1IAkIj1WiAlH"
      },
      "source": [
        "Confusion Matrix for Logistic Regression"
      ]
    },
    {
      "cell_type": "code",
      "metadata": {
        "colab": {
          "base_uri": "https://localhost:8080/"
        },
        "id": "q4v67EoiifsP",
        "outputId": "c1eebcdb-8284-4e3c-e228-2f99fe42ee41"
      },
      "source": [
        "#confusion matrix for bag of words\n",
        "cm_cv=confusion_matrix(y_test,lr_cv_predict,labels=[1,0])\n",
        "print(cm_cv)\n",
        "\n",
        "#confusion matrix for tfidf features\n",
        "cm_tfidf=confusion_matrix(y_test,lr_tfidf_predict,labels=[1,0])\n",
        "print(cm_tfidf)"
      ],
      "execution_count": null,
      "outputs": [
        {
          "output_type": "stream",
          "text": [
            "[[1372 4971]\n",
            " [ 106 6051]]\n",
            "[[5705  638]\n",
            " [ 796 5361]]\n"
          ],
          "name": "stdout"
        }
      ]
    },
    {
      "cell_type": "markdown",
      "metadata": {
        "id": "hBKSd7nUhVTq"
      },
      "source": [
        "Classification report for Logisitc Regression"
      ]
    },
    {
      "cell_type": "code",
      "metadata": {
        "colab": {
          "base_uri": "https://localhost:8080/"
        },
        "id": "LyEX7DoBhXqy",
        "outputId": "2fe644c0-ce4e-4b8d-edc5-e975ebebd119"
      },
      "source": [
        "#Classification report for bag of words \n",
        "lr_cv_report=classification_report(y_test,lr_cv_predict,target_names=['Positive','Negative'])\n",
        "print('LR (CV):')\n",
        "print(lr_cv_report)\n",
        "\n",
        "#Classification report for tfidf features\n",
        "lr_tfidf_report=classification_report(y_test,lr_tfidf_predict,target_names=['Positive','Negative'])\n",
        "print('\\nLR (TF-IDF):')\n",
        "print(lr_tfidf_report)"
      ],
      "execution_count": null,
      "outputs": [
        {
          "output_type": "stream",
          "text": [
            "LR (CV):\n",
            "              precision    recall  f1-score   support\n",
            "\n",
            "    Positive       0.55      0.98      0.70      6157\n",
            "    Negative       0.93      0.22      0.35      6343\n",
            "\n",
            "    accuracy                           0.59     12500\n",
            "   macro avg       0.74      0.60      0.53     12500\n",
            "weighted avg       0.74      0.59      0.53     12500\n",
            "\n",
            "\n",
            "LR (TF-IDF):\n",
            "              precision    recall  f1-score   support\n",
            "\n",
            "    Positive       0.89      0.87      0.88      6157\n",
            "    Negative       0.88      0.90      0.89      6343\n",
            "\n",
            "    accuracy                           0.89     12500\n",
            "   macro avg       0.89      0.89      0.89     12500\n",
            "weighted avg       0.89      0.89      0.89     12500\n",
            "\n"
          ],
          "name": "stdout"
        }
      ]
    },
    {
      "cell_type": "markdown",
      "metadata": {
        "id": "WarioDKXi-0g"
      },
      "source": [
        "Using Linear SupportVectorClassifier(SVC) as second model"
      ]
    },
    {
      "cell_type": "code",
      "metadata": {
        "colab": {
          "base_uri": "https://localhost:8080/"
        },
        "id": "9KGU0xvFjAzm",
        "outputId": "d8c62168-4957-45c6-ce44-f531969cd7ff"
      },
      "source": [
        "#training the model\n",
        "linear_svc1 = LinearSVC(C=0.5, random_state=42)\n",
        "linear_svc2 = LinearSVC(C=0.5, random_state=42)\n",
        "\n",
        "#Fitting the model for Bag of words\n",
        "svc_cv=linear_svc1.fit(cv_train,y_train)\n",
        "print(svc_cv)\n",
        "\n",
        "#Fitting the model for tfidf features\n",
        "svc_tfidf=linear_svc2.fit(tfidf_train,y_train)\n",
        "print(svc_tfidf)"
      ],
      "execution_count": null,
      "outputs": [
        {
          "output_type": "stream",
          "text": [
            "LinearSVC(C=0.5, class_weight=None, dual=True, fit_intercept=True,\n",
            "          intercept_scaling=1, loss='squared_hinge', max_iter=1000,\n",
            "          multi_class='ovr', penalty='l2', random_state=42, tol=0.0001,\n",
            "          verbose=0)\n",
            "LinearSVC(C=0.5, class_weight=None, dual=True, fit_intercept=True,\n",
            "          intercept_scaling=1, loss='squared_hinge', max_iter=1000,\n",
            "          multi_class='ovr', penalty='l2', random_state=42, tol=0.0001,\n",
            "          verbose=0)\n"
          ],
          "name": "stdout"
        }
      ]
    },
    {
      "cell_type": "markdown",
      "metadata": {
        "id": "dMreV-FHlGsL"
      },
      "source": [
        "SVC model prediction on test dataset"
      ]
    },
    {
      "cell_type": "code",
      "metadata": {
        "colab": {
          "base_uri": "https://localhost:8080/"
        },
        "id": "Lz02zayelMs7",
        "outputId": "6122f7a4-d915-46f4-b073-f33de8aaaf4b"
      },
      "source": [
        "#Predicting the model for bag of words\n",
        "predict_cv = linear_svc1.predict(cv_test)\n",
        "print(predict_cv)\n",
        "\n",
        "##Predicting the model for tfidf features\n",
        "predict_tfidf = linear_svc2.predict(tfidf_test)\n",
        "print(predict_tfidf)"
      ],
      "execution_count": null,
      "outputs": [
        {
          "output_type": "stream",
          "text": [
            "[0 0 0 ... 0 0 0]\n",
            "[0 1 0 ... 0 1 1]\n"
          ],
          "name": "stdout"
        }
      ]
    },
    {
      "cell_type": "markdown",
      "metadata": {
        "id": "Qy7NWMicmbXo"
      },
      "source": [
        "Accuracy of SVC Model"
      ]
    },
    {
      "cell_type": "code",
      "metadata": {
        "colab": {
          "base_uri": "https://localhost:8080/"
        },
        "id": "SrjBdkonmbA7",
        "outputId": "3bda4306-2fd6-4087-c0f9-c5efbdb2868d"
      },
      "source": [
        "#Accuracy score for bag of words\n",
        "print('Accuracy score (CV): \\n', accuracy_score(y_test, predict_cv))\n",
        "\n",
        "#Accuracy score for tfidf features\n",
        "print('Accuracy score (TFIDF): \\n', accuracy_score(y_test, predict_tfidf))"
      ],
      "execution_count": null,
      "outputs": [
        {
          "output_type": "stream",
          "text": [
            "Accuracy score (CV): \n",
            " 0.50656\n",
            "Accuracy score (TFIDF): \n",
            " 0.90296\n"
          ],
          "name": "stdout"
        }
      ]
    },
    {
      "cell_type": "markdown",
      "metadata": {
        "id": "XcjUYtU1nqHy"
      },
      "source": [
        "Confusion Matrix for SVC model"
      ]
    },
    {
      "cell_type": "code",
      "metadata": {
        "colab": {
          "base_uri": "https://localhost:8080/"
        },
        "id": "EuxgAiEMntFz",
        "outputId": "5fea446e-7f18-4cd9-cdc3-cd24c0e8d6b4"
      },
      "source": [
        "#confusion matrix for bag of words\n",
        "print('Confusion Matrix (CV): \\n', confusion_matrix(y_test, predict_cv))\n",
        "\n",
        "#confusion matrix for tfidf features\n",
        "print('Confusion Matrix (TFIDF): \\n', confusion_matrix(y_test, predict_tfidf))"
      ],
      "execution_count": null,
      "outputs": [
        {
          "output_type": "stream",
          "text": [
            "Confusion Matrix (CV): \n",
            " [[6149    8]\n",
            " [6160  183]]\n",
            "Confusion Matrix (TFIDF): \n",
            " [[5468  689]\n",
            " [ 524 5819]]\n"
          ],
          "name": "stdout"
        }
      ]
    },
    {
      "cell_type": "markdown",
      "metadata": {
        "id": "tnEeO_86oHH6"
      },
      "source": [
        "Classification report for SVC model"
      ]
    },
    {
      "cell_type": "code",
      "metadata": {
        "colab": {
          "base_uri": "https://localhost:8080/"
        },
        "id": "7swmpm3LoMXh",
        "outputId": "0a460195-a6d9-4648-ab0d-047472176f6a"
      },
      "source": [
        "#Classification report for bag of words \n",
        "print('SVC (CV):')\n",
        "print('Classification Report (CV): \\n', classification_report(y_test, predict_cv, target_names = ['Negative', 'Positive']))\n",
        "\n",
        "#Classification report for tfidf features\n",
        "print('\\nSVC (TF-IDF):')\n",
        "print('Classification Report (TFIDF): \\n', classification_report(y_test, predict_tfidf, target_names = ['Negative', 'Positive']))"
      ],
      "execution_count": null,
      "outputs": [
        {
          "output_type": "stream",
          "text": [
            "SVC (CV):\n",
            "Classification Report (CV): \n",
            "               precision    recall  f1-score   support\n",
            "\n",
            "    Negative       0.50      1.00      0.67      6157\n",
            "    Positive       0.96      0.03      0.06      6343\n",
            "\n",
            "    accuracy                           0.51     12500\n",
            "   macro avg       0.73      0.51      0.36     12500\n",
            "weighted avg       0.73      0.51      0.36     12500\n",
            "\n",
            "\n",
            "SVC (TF-IDF):\n",
            "Classification Report (TFIDF): \n",
            "               precision    recall  f1-score   support\n",
            "\n",
            "    Negative       0.91      0.89      0.90      6157\n",
            "    Positive       0.89      0.92      0.91      6343\n",
            "\n",
            "    accuracy                           0.90     12500\n",
            "   macro avg       0.90      0.90      0.90     12500\n",
            "weighted avg       0.90      0.90      0.90     12500\n",
            "\n"
          ],
          "name": "stdout"
        }
      ]
    }
  ]
}